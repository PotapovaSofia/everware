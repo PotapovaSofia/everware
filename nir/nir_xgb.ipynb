{
 "cells": [
  {
   "cell_type": "code",
   "execution_count": 1,
   "metadata": {
    "collapsed": true
   },
   "outputs": [],
   "source": [
    "import pandas as pd\n",
    "from sklearn.cross_validation import train_test_split\n",
    "import numpy as np\n",
    "from matplotlib import pyplot as plt\n",
    "import xgboost as xgb\n",
    "import random\n",
    "% matplotlib inline\n",
    "\n",
    "from sklearn import cross_validation, metrics\n",
    "from sklearn.grid_search import GridSearchCV"
   ]
  },
  {
   "cell_type": "code",
   "execution_count": null,
   "metadata": {
    "collapsed": false
   },
   "outputs": [],
   "source": [
    "BP = './f1/'\n",
    "X_test = pd.read_csv(BP + 'X_test.csv').drop(['Id', 'qid'], axis=1)\n",
    "X_train = pd.read_csv(BP + 'X_train.csv').drop(['Id', 'qid'], axis=1)\n",
    "X_val = pd.read_csv(BP + 'X_val.csv').drop(['Id', 'qid'], axis=1)\n",
    "\n",
    "y_test = pd.read_csv(BP + 'y_test.csv').drop('Id', axis=1)\n",
    "y_train = pd.read_csv(BP + 'y_train.csv').drop('Id', axis=1)\n",
    "y_val = pd.read_csv(BP + 'y_val.csv').drop('Id', axis=1)"
   ]
  },
  {
   "cell_type": "code",
   "execution_count": null,
   "metadata": {
    "collapsed": true
   },
   "outputs": [],
   "source": [
    "BP = './f2/'\n",
    "X_test2 = pd.read_csv(BP + 'X_test.csv').drop(['Id', 'qid'], axis=1)\n",
    "X_train2 = pd.read_csv(BP + 'X_train.csv').drop(['Id', 'qid'], axis=1)\n",
    "X_val2 = pd.read_csv(BP + 'X_val.csv').drop(['Id', 'qid'], axis=1)\n",
    "\n",
    "y_test2 = pd.read_csv(BP + 'y_test.csv').drop('Id', axis=1)\n",
    "y_train2 = pd.read_csv(BP + 'y_train.csv').drop('Id', axis=1)\n",
    "y_val2 = pd.read_csv(BP + 'y_val.csv').drop('Id', axis=1)"
   ]
  },
  {
   "cell_type": "code",
   "execution_count": null,
   "metadata": {
    "collapsed": true
   },
   "outputs": [],
   "source": [
    "model = xgb.XGBClassifier(objective='rank:ndcg')\n",
    "model.fit(X_train, y_train, eval_metric='ndcg')\n",
    "predictions = model.predict(X_val)\n",
    "print \"ndcg : %.4g\" % ndcg_score(y_val, predictions)"
   ]
  },
  {
   "cell_type": "code",
   "execution_count": null,
   "metadata": {
    "collapsed": true
   },
   "outputs": [],
   "source": [
    "xgtrain = xgb.DMatrix(X_train, label=y_train)\n",
    "xgtest = xgb.DMatrix(X_val, label=y_val)"
   ]
  },
  {
   "cell_type": "code",
   "execution_count": null,
   "metadata": {
    "collapsed": true
   },
   "outputs": [],
   "source": [
    "param = {}\n",
    "param['silent'] = 0\n",
    "param['booster'] = 'gbtree'\n",
    "param['objective'] = 'rank:pairwise'\n",
    "param[\"eval_metric\"] = 'ndcg'\n",
    "param[\"n_estimators\"] = 1000\n",
    "evals = [(xgtrain, 'train'), (xgtest, 'val')]\n",
    "dicteval = {(xgtrain, 'train'): 'ndcg', (xgtest, 'val') :'ndcg'}\n",
    "param['eta'] = 0.6\n",
    "n_iter = 1000\n",
    "bst = xgb.train(param, xgtrain, n_iter, evals = evals, verbose_eval=n_iter-1, evals_result=dicteval)"
   ]
  },
  {
   "cell_type": "code",
   "execution_count": null,
   "metadata": {
    "collapsed": true
   },
   "outputs": [],
   "source": [
    "epochs = len(dicteval['train'][''])\n",
    "x_axis = range(0, epochs)\n",
    "# plot log loss\n",
    "fig, ax = plt.subplots()\n",
    "ax.plot(x_axis, dicteval['train'][''], label='Train')\n",
    "ax.plot(x_axis, dicteval['val'][''], label='Test')\n",
    "ax.legend()\n",
    "plt.ylabel('NDCG')\n",
    "plt.title('XGBoost NDCG')\n",
    "plt.show()"
   ]
  },
  {
   "cell_type": "code",
   "execution_count": null,
   "metadata": {
    "collapsed": true
   },
   "outputs": [],
   "source": [
    "import numpy as np\n",
    "from sklearn.preprocessing import LabelBinarizer\n",
    "from sklearn.metrics import make_scorer\n",
    "\n",
    "\n",
    "def dcg_score(y_true, y_score, k=5):\n",
    "    order = np.argsort(y_score)[::-1]\n",
    "    y_true = np.take(y_true, order[:k])\n",
    "\n",
    "    gain = 2 ** y_true - 1\n",
    "\n",
    "    discounts = np.log2(np.arange(len(y_true)) + 2)\n",
    "    return np.sum(gain / discounts)\n",
    "\n",
    "\n",
    "def ndcg_score(ground_truth, predictions, k=5):\n",
    "    lb = LabelBinarizer()\n",
    "    T = lb.fit_transform(ground_truth)\n",
    "\n",
    "    scores = []\n",
    "\n",
    "    # Iterate over each y_true and compute the DCG score\n",
    "    for y_true, y_score in zip(T, predictions):\n",
    "        actual = dcg_score(y_true, y_score, k)\n",
    "        best = dcg_score(y_true, y_true, k)\n",
    "        score = float(actual) / float(best)\n",
    "        scores.append(score)\n",
    "\n",
    "    return np.mean(scores)\n",
    "\n",
    "# NDCG Scorer function\n",
    "ndcg_scorer = make_scorer(ndcg_score, needs_proba=True)\n"
   ]
  },
  {
   "cell_type": "code",
   "execution_count": 3,
   "metadata": {
    "collapsed": true
   },
   "outputs": [],
   "source": [
    "def cv_eta(X_train, y_train, X_val, y_val):\n",
    "\n",
    "    xgtrain = xgb.DMatrix(X_train, label=y_train)\n",
    "    xgtest = xgb.DMatrix(X_val, label=y_val)\n",
    "    \n",
    "    param = {}\n",
    "    param['silent'] = 0\n",
    "    param['booster'] = 'gbtree'\n",
    "    param['objective'] = 'rank:pairwise'\n",
    "    param[\"eval_metric\"] = 'ndcg'\n",
    "    param[\"n_estimators\"] = 1000\n",
    "    num_round = 150\n",
    "    results = []\n",
    "\n",
    "    for eta in np.linspace(0.1, 2, 20):\n",
    "        param['eta'] = eta\n",
    "        cv = xgb.cv(param, xgtrain, num_round, nfold=5, metrics={'ndcg'}, seed = 0)\n",
    "        results.append(cv['test--mean'][99])\n",
    "        print \"learning_rate: \", eta, \"ndcg: \", cv['test--mean'][99]\n",
    "    return results"
   ]
  },
  {
   "cell_type": "code",
   "execution_count": null,
   "metadata": {
    "collapsed": true
   },
   "outputs": [],
   "source": [
    "#original_pool\n",
    "size = X_train.shape[0]\n",
    "res = cv_eta(X_train[:size], y_train[:size], X_val, y_val)"
   ]
  },
  {
   "cell_type": "code",
   "execution_count": null,
   "metadata": {
    "collapsed": true
   },
   "outputs": [],
   "source": [
    "#original_pool_2\n",
    "size = X_train.shape[0] / 2\n",
    "res2 = cv_eta(X_train[:size], y_train[:size], X_val, y_val)"
   ]
  },
  {
   "cell_type": "code",
   "execution_count": null,
   "metadata": {
    "collapsed": true
   },
   "outputs": [],
   "source": [
    "#original_pool_5\n",
    "size = X_train.shape[0] / 5\n",
    "res5 = cv_eta(X_train[:size], y_train[:size], X_val, y_val)"
   ]
  },
  {
   "cell_type": "code",
   "execution_count": null,
   "metadata": {
    "collapsed": true
   },
   "outputs": [],
   "source": [
    "#original_pool_10\n",
    "size = X_train.shape[0] / 10\n",
    "res10 = cv_eta(X_train[:size], y_train[:size], X_val, y_val)"
   ]
  },
  {
   "cell_type": "code",
   "execution_count": 4,
   "metadata": {
    "collapsed": true
   },
   "outputs": [],
   "source": [
    "def noisy_pool(y):\n",
    "    size = y.shape[0]\n",
    "    set_of_values = list(set(y))\n",
    "    distr = np.zeros(size)\n",
    "    for i in range(size / 100):\n",
    "        distr[i] = 1\n",
    "    noisy_y = [random.choice(set_of_values) if random.choice(distr) else y[i] for i in range(size)]\n",
    "    return pd.DataFrame(noisy_y)\n",
    "\n",
    "y_train_n = noisy_pool(y_train[\"label\"])"
   ]
  },
  {
   "cell_type": "code",
   "execution_count": null,
   "metadata": {
    "collapsed": true
   },
   "outputs": [],
   "source": [
    "#noisy_pool\n",
    "size = X_train.shape[0]\n",
    "res_n = cv_eta(X_train[:size], y_train[:size], X_val, y_val)"
   ]
  },
  {
   "cell_type": "code",
   "execution_count": null,
   "metadata": {
    "collapsed": true
   },
   "outputs": [],
   "source": [
    "#noisy_pool2\n",
    "size = X_train.shape[0] / 2\n",
    "res_n2 = cv_eta(X_train[:size], y_train[:size], X_val, y_val)"
   ]
  },
  {
   "cell_type": "code",
   "execution_count": null,
   "metadata": {
    "collapsed": true
   },
   "outputs": [],
   "source": [
    "#noisy_pool5\n",
    "size = X_train.shape[0] / 5\n",
    "res_n5 = cv_eta(X_train[:size], y_train[:size], X_val, y_val)"
   ]
  },
  {
   "cell_type": "code",
   "execution_count": null,
   "metadata": {
    "collapsed": true
   },
   "outputs": [],
   "source": [
    "#noisy_pool10\n",
    "size = X_train.shape[0] / 10\n",
    "res_n10 = cv_eta(X_train[:size], y_train[:size], X_val, y_val)"
   ]
  }
 ],
 "metadata": {
  "kernelspec": {
   "display_name": "Python 2",
   "language": "python",
   "name": "python2"
  },
  "language_info": {
   "codemirror_mode": {
    "name": "ipython",
    "version": 2
   },
   "file_extension": ".py",
   "mimetype": "text/x-python",
   "name": "python",
   "nbconvert_exporter": "python",
   "pygments_lexer": "ipython2",
   "version": "2.7.10"
  }
 },
 "nbformat": 4,
 "nbformat_minor": 0
}
